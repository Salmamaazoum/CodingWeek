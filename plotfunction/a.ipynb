{
 "cells": [
  {
   "cell_type": "markdown",
   "metadata": {},
   "source": [
    "# A"
   ]
  },
  {
   "cell_type": "code",
   "execution_count": null,
   "metadata": {},
   "outputs": [],
   "source": [
    "import dash\n",
    "import dash_core_components as dcc\n",
    "import dash_html_components as html\n",
    "import plotly.graph_objects as go\n",
    "import plotly.express as px\n",
    "from functions_stats import *\n",
    "from utils import *\n",
    "import pandas as pd\n",
    "import stats_functions\n",
    "import argparse\n",
    "import word_cloud\n",
    "import localisation\n",
    "import tweet_statistics\n",
    "import most_used_words\n",
    "import sys\n",
    "import os"
   ]
  },
  {
   "cell_type": "code",
   "execution_count": null,
   "metadata": {},
   "outputs": [],
   "source": [
    "# if len(sys.argv) == 1:\n",
    "#     with open(\"./app.py\", 'rb') as f:\n",
    "#         code = compile(f.read(), \"./app.py\", \"exec\")\n",
    "#     exec(code)\n",
    "# if args.table_all:\n",
    "#     tweet_statistics.plot_tweet_histogram()\n",
    "# if args.table_sentiment:\n",
    "#     tweet_statistics.plot_sen_histogram()\n",
    "# if args.table_polarity:\n",
    "#     tweet_statistics.plot_polarity_histogram()\n",
    "# if args.barloc:\n",
    "#     localisation.freq_places()\n",
    "# if args.wordfrequency != None:\n",
    "#     most_used_words.plot_freq_words(\n",
    "#         'most_used_'+args.wordfrequency[0]+'.csv')\n",
    "# if args.wordcloud != None:\n",
    "#     word_cloud.makeImage('most_used_100_'+args.wordcloud[0]+'.csv')\n",
    "tweet_statistics.plot_tweet_histogram()\n",
    "tweet_statistics.plot_sen_histogram()\n",
    "tweet_statistics.plot_polarity_histogram()\n",
    "# localisation.freq_places()"
   ]
  },
  {
   "cell_type": "code",
   "execution_count": null,
   "metadata": {},
   "outputs": [],
   "source": [
    "import pandas as pd\n",
    "import numpy as np\n",
    "import matplotlib.pyplot as plt\n",
    "import plotly.express as px\n",
    "import plotly.graph_objects as go\n",
    "import chart_studio.plotly as py\n",
    "import plotly.tools as tls\n",
    "from dash import dcc"
   ]
  },
  {
   "cell_type": "code",
   "execution_count": null,
   "metadata": {},
   "outputs": [],
   "source": []
  },
  {
   "cell_type": "code",
   "execution_count": null,
   "metadata": {},
   "outputs": [],
   "source": [
    "liste_departement = departement_nom()\n",
    "def right_dictionnary(i):\n",
    "    data = nb_crimes_per_depart_per_year()[str(i)]\n",
    "    df={}\n",
    "    df[\"years\"]=[]\n",
    "    df[\"crimes\"]=[]\n",
    "    for elt in data:\n",
    "        df[\"years\"].append(elt)\n",
    "        df[\"crimes\"].append(data[elt])\n",
    "\n",
    "    df = pd.DataFrame.from_dict(df)\n",
    "    return df"
   ]
  },
  {
   "cell_type": "code",
   "execution_count": null,
   "metadata": {},
   "outputs": [],
   "source": []
  },
  {
   "cell_type": "code",
   "execution_count": null,
   "metadata": {},
   "outputs": [],
   "source": [
    "# # Get crime data\n",
    "# df_crimes = read_and_load_crimes_committed()\n",
    "\n",
    "# # Clean Data\n",
    "# df_crimes = stats_functions.clean_data_map_plot(df_crimes)\n",
    "# df_crimes_dep, df_crimes_regions = stats_functions.number_crimes_per_location(df_crimes)\n",
    "\n",
    "# # Get geoJson data\n",
    "# df_gj_dep, df_gj_regions = stats_functions.load_geoJson_data()\n",
    "\n",
    "# # Get merged geoJson/crime_data Df\n",
    "# df_dep, df_regions = stats_functions.merge_crime_and_geoj_dfs(df_crimes_dep, df_crimes_regions,df_gj_dep,df_gj_regions)\n",
    "\n",
    "# Make Dfs pretty\n",
    "df_dep, df_regions = stats_functions.map_plot_data_nubtotal()\n",
    "# df_dep, df_regions = df_dep.reset_index, df_regions.reset_index"
   ]
  },
  {
   "cell_type": "code",
   "execution_count": null,
   "metadata": {},
   "outputs": [],
   "source": [
    "from functions_plot import *\n",
    "from stats_functions import *"
   ]
  },
  {
   "cell_type": "code",
   "execution_count": null,
   "metadata": {},
   "outputs": [],
   "source": [
    "# Get crime data\n",
    "df_crimes = read_and_load_crimes_committed()\n",
    "\n",
    "# Clean Data\n",
    "df_crimes = clean_data_map_plot(df_crimes)\n",
    "\n",
    "# Get number of crimes per regions/department per year\n",
    "df_crimes_dep ,df_crimes_regions = number_crimes_per_location(df_crimes)\n",
    "# df_crimes_dep ,df_crimes_regions = tauxpourmille_crimes_per_location(df_crimes)\n",
    "\n",
    "# Get geoJson data\n",
    "df_gj_dep, df_gj_regions = load_geoJson_data()\n",
    "\n",
    "# Get merged geoJson/crime_data Df\n",
    "df_dep, df_regions = merge_crime_and_geoj_dfs(df_crimes_dep, df_crimes_regions,df_gj_dep,df_gj_regions)\n",
    "\n",
    "# Make Dfs pretty\n",
    "df_dep, df_regions = make_df_pretty(df_dep, df_regions)\n",
    "\n",
    "# # Get department and regions figures\n",
    "# fig_dep, fig_regions = get_dep_reg_figures(df_dep, df_regions)\n"
   ]
  },
  {
   "cell_type": "code",
   "execution_count": null,
   "metadata": {},
   "outputs": [],
   "source": [
    "# Create department figure\n",
    "fig_dep = px.choropleth(df_regions,\n",
    "                geojson=df_regions.geometry,\n",
    "                locations=df_regions.index,\n",
    "                color='nº crimes',\n",
    "                center={\"lat\": 48.8534, \"lon\": 2.3488},\n",
    "                projection=\"mercator\",\n",
    "                animation_frame='year')\n",
    "\n",
    "# Regions layout configuration\n",
    "fig_dep.update_layout(margin={\"r\":0,\"t\":0,\"l\":0,\"b\":0}, autosize=False,width=800,height=500)\n",
    "fig_dep.layout.pop(\"updatemenus\")\n",
    "\n",
    "# Regions geos configuration\n",
    "fig_dep.update_geos(fitbounds=\"locations\", visible=False, projection_type =\"mercator\")\n",
    "fig_dep.show()"
   ]
  },
  {
   "cell_type": "code",
   "execution_count": null,
   "metadata": {},
   "outputs": [],
   "source": [
    "fig_dep.show()"
   ]
  },
  {
   "cell_type": "code",
   "execution_count": null,
   "metadata": {},
   "outputs": [],
   "source": [
    "def name_to_figure(selection, selection_1):\n",
    "    global df_dep\n",
    "    global df_regions\n",
    "    if selection == 'France':\n",
    "        df = df_regions.reset_index().groupby(['year']).sum().reset_index()\n",
    "    elif selection_1 == 'Department':\n",
    "        df = df_dep.loc[selection]\n",
    "    elif selection_1 == 'Regions':\n",
    "        df = df_regions.loc[selection]\n",
    "    figure = go.Figure()\n",
    "    figure.update_layout(\n",
    "        plot_bgcolor=\"#FDFEFE\",  # set chart bar color FDFEFE\n",
    "        paper_bgcolor=\"#FDFEFE\",  # set background chart color\n",
    "        autosize=False,\n",
    "        width=600,  # set the size of the chart\n",
    "        height=400,\n",
    "        margin=dict(l=20, r=20, t=40, b=20),\n",
    "        title={\n",
    "            'text': \"Number of crime for each department\",\n",
    "            'y': 0.9,\n",
    "            'x': 0.5,\n",
    "            'xanchor': 'center',\n",
    "            'yanchor': 'top'},\n",
    "        font=dict(\n",
    "            family=\"sans-serif\",\n",
    "            color=\"#17202A\"\n",
    "        )\n",
    "    )\n",
    "    figure.add_trace(\n",
    "        go.Bar(x=df[\"year\"], y=df[\"nº crimes\"], marker_color=\"#F05331\"))\n",
    "    return figure"
   ]
  },
  {
   "cell_type": "code",
   "execution_count": null,
   "metadata": {},
   "outputs": [],
   "source": [
    "name_to_figure('France','Department')\n"
   ]
  },
  {
   "cell_type": "code",
   "execution_count": null,
   "metadata": {},
   "outputs": [],
   "source": [
    "for i in list(liste_departement.Number.values):\n",
    "    df = right_dictionnary(i)"
   ]
  },
  {
   "cell_type": "code",
   "execution_count": null,
   "metadata": {},
   "outputs": [],
   "source": [
    "def name_to_figure(selection):\n",
    "    figure = go.Figure()\n",
    "    figure.update_layout(\n",
    "        plot_bgcolor=\"#FDFEFE\", # set chart bar color FDFEFE\n",
    "        paper_bgcolor=\"#FDFEFE\", # set background chart color\n",
    "        autosize=False,\n",
    "        width=600, # set the size of the chart\n",
    "        height=400,\n",
    "        margin=dict(l=20, r=20, t=40, b=20),\n",
    "        title={\n",
    "            'text': \"Number of crime for each department\",\n",
    "            'y':0.9,\n",
    "            'x':0.5,\n",
    "            'xanchor': 'center',\n",
    "            'yanchor': 'top'},\n",
    "        font=dict(\n",
    "            family=\"sans-serif\",\n",
    "            color=\"#17202A\"\n",
    "        )\n",
    "    )\n",
    "    current_department = liste_departement.loc[liste_departement[\"Department\"] == str(selection)][\"Number\"]\n",
    "    figure.add_trace(go.Bar(x=right_dictionnary(int(current_department))[\"years\"], y=right_dictionnary(int(current_department))[\"crimes\"],marker_color=\"#F05331\")) # change the chart depending of the dropdown menu\n",
    "    return figure\n"
   ]
  },
  {
   "cell_type": "code",
   "execution_count": null,
   "metadata": {},
   "outputs": [],
   "source": [
    "name_to_figure('Alier')"
   ]
  },
  {
   "cell_type": "markdown",
   "metadata": {},
   "source": [
    "# B"
   ]
  },
  {
   "cell_type": "code",
   "execution_count": 10,
   "metadata": {},
   "outputs": [],
   "source": [
    "import numpy as np\n",
    "from PIL import Image\n",
    "from os import path\n",
    "from wordcloud import WordCloud, ImageColorGenerator\n",
    "import matplotlib.pyplot as plt\n",
    "import pandas as pd\n",
    "\n",
    "\n",
    "def makeImage(filename):\n",
    "    tweet_mask = np.array(Image.open(\"./data/twitter_logo.png\"))\n",
    "    wc = WordCloud(background_color=\"white\", max_words=1000,\n",
    "                   mask=tweet_mask, contour_color='blue')\n",
    "    df = pd.read_csv(f'./data/{filename}', encoding='utf-8')\n",
    "    dct = df.set_index('text').transpose().to_dict('int')\n",
    "    wc.generate_from_frequencies(dct['count'])\n",
    "    image_colors = ImageColorGenerator(tweet_mask)\n",
    "    plt.imshow(wc.recolor(color_func=image_colors), interpolation=\"bilinear\")\n",
    "    plt.axis(\"off\")\n",
    "    plt.show()\n",
    "    return\n"
   ]
  },
  {
   "cell_type": "code",
   "execution_count": null,
   "metadata": {},
   "outputs": [],
   "source": []
  }
 ],
 "metadata": {
  "kernelspec": {
   "display_name": "Python 3.9.13 64-bit (microsoft store)",
   "language": "python",
   "name": "python3"
  },
  "language_info": {
   "codemirror_mode": {
    "name": "ipython",
    "version": 3
   },
   "file_extension": ".py",
   "mimetype": "text/x-python",
   "name": "python",
   "nbconvert_exporter": "python",
   "pygments_lexer": "ipython3",
   "version": "3.9.13"
  },
  "orig_nbformat": 4,
  "vscode": {
   "interpreter": {
    "hash": "3991fe8d992f8f75a9cea02ad843bfb6e920ad5539d21b925133619cd211e60b"
   }
  }
 },
 "nbformat": 4,
 "nbformat_minor": 2
}
